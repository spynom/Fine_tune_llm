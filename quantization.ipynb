{
 "cells": [
  {
   "metadata": {
    "ExecuteTime": {
     "end_time": "2024-11-04T18:12:41.630154Z",
     "start_time": "2024-11-04T18:12:32.537130Z"
    }
   },
   "cell_type": "code",
   "source": "import torch",
   "id": "beca0ef364f4d771",
   "outputs": [],
   "execution_count": 1
  },
  {
   "metadata": {},
   "cell_type": "markdown",
   "source": "# Quantization",
   "id": "feb89d44581e5889"
  },
  {
   "metadata": {},
   "cell_type": "markdown",
   "source": "**Quantization refers to the process of mapping a large set to smaller set of values (the higher precision to the lower precision)**\n",
   "id": "9ed6e0a4f7061c39"
  },
  {
   "metadata": {},
   "cell_type": "markdown",
   "source": [
    "\n",
    "![](img.png)"
   ],
   "id": "d7f81092bbcb16fd"
  },
  {
   "metadata": {},
   "cell_type": "markdown",
   "source": [
    "**Original Tensor**\n",
    "|    |     |     |\n",
    "|----|-----|-----|\n",
    "| 191.6 | -13.5 | 728.6 |\n",
    "| 92.14 | 295.5 | -184  |\n",
    "| 0     | 684.6 | 245.5 |\n",
    "\n",
    "**Quantized Tensor**\n",
    "|   |   |   |\n",
    "|--|--|--|\n",
    "|-23|-81|127|\n",
    "|-51|6|-128|\n",
    "|-77|114|-8|"
   ],
   "id": "b6788fa184b68b9f"
  },
  {
   "metadata": {},
   "cell_type": "markdown",
   "source": "### Advantage of Quantization",
   "id": "951fc9290a0e5af7"
  },
  {
   "metadata": {},
   "cell_type": "markdown",
   "source": [
    "- Smaller model\n",
    "- speed gains\n",
    "    - memory bandwidth\n",
    "    - Faster operation\n",
    "        - GEMM: General  Matrix Multiplication\n",
    "        - GEMV: General Matrix Vector Multiplication"
   ],
   "id": "34eec48e9c8f12c"
  },
  {
   "metadata": {},
   "cell_type": "markdown",
   "source": "### Challenges Of Quantization",
   "id": "8fa13cc7318307ea"
  },
  {
   "metadata": {},
   "cell_type": "markdown",
   "source": [
    "- Quantization Error\n",
    "- Retraining (Quantization Aware Training)\n",
    "- Limited Hardware Support\n",
    "- Calibration Dataset Needed\n",
    "- Packing / Unpacking"
   ],
   "id": "b4f300ea88e494fb"
  },
  {
   "metadata": {},
   "cell_type": "markdown",
   "source": "## Linear Quantization",
   "id": "f9678d5a63fba278"
  },
  {
   "metadata": {},
   "cell_type": "markdown",
   "source": "![](img_1.png)",
   "id": "25ba93db6bf4a1dd"
  },
  {
   "metadata": {},
   "cell_type": "markdown",
   "source": [
    "**Idea:** Linear Mapping <br>\n",
    " $$ r = s(q-z)$$\n",
    " **WHERE,**<br>\n",
    " $r$: Original Value<br>\n",
    " $s$: Scale<br>\n",
    " $q$: Quantized value<br>\n",
    " $z$: zero-point \n",
    " \n",
    "**EXAMPLE**<br>\n",
    "Assume $s = 2$ , $z = 0$, then <br>\n",
    "$ r = 2(q-0) = 2q$ <br>\n",
    "for $q = 10$, we have $r = 2*10 = 20$ "
   ],
   "id": "ff22fc88c1dc5bdb"
  },
  {
   "metadata": {
    "ExecuteTime": {
     "end_time": "2024-11-04T18:15:47.248386Z",
     "start_time": "2024-11-04T18:15:47.243096Z"
    }
   },
   "cell_type": "code",
   "source": [
    "def get_dequantised_tensor(tensor,scale,zero_point):\n",
    "    return scale * (tensor.float()-scale)\n",
    "    "
   ],
   "id": "53239ff660714405",
   "outputs": [],
   "execution_count": 2
  },
  {
   "metadata": {},
   "cell_type": "markdown",
   "source": "### How do we get the quantized tensor q ?\n",
   "id": "75930e8b6481e9a4"
  },
  {
   "metadata": {},
   "cell_type": "markdown",
   "source": [
    "as we know $ r = s(q-z)$<br>\n",
    "then, $ r/s = q-z $<br>\n",
    "then, $ r/s-z =q$ can also be written as $ q = r/s-z$<br>\n",
    "then, $ round(r/s -z) $ , to eliminate floating-point overflow<br>\n",
    "at end, $ q = int( round (r/s - z))$"
   ],
   "id": "c5ed1f6cabeb783b"
  },
  {
   "cell_type": "code",
   "execution_count": null,
   "id": "initial_id",
   "metadata": {
    "collapsed": true
   },
   "outputs": [],
   "source": [
    ""
   ]
  }
 ],
 "metadata": {
  "kernelspec": {
   "display_name": "Python 3",
   "language": "python",
   "name": "python3"
  },
  "language_info": {
   "codemirror_mode": {
    "name": "ipython",
    "version": 2
   },
   "file_extension": ".py",
   "mimetype": "text/x-python",
   "name": "python",
   "nbconvert_exporter": "python",
   "pygments_lexer": "ipython2",
   "version": "2.7.6"
  }
 },
 "nbformat": 4,
 "nbformat_minor": 5
}
